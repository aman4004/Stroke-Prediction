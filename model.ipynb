{
 "cells": [
  {
   "cell_type": "code",
   "execution_count": 24,
   "metadata": {},
   "outputs": [],
   "source": [
    "# data processing\n",
    "import pandas as pd\n",
    "import numpy as np\n",
    "from sklearn.model_selection import train_test_split\n",
    "from sklearn.preprocessing import StandardScaler\n",
    "from imblearn.over_sampling import SMOTE\n",
    "from imblearn.under_sampling import RandomUnderSampler\n",
    "from imblearn.pipeline import Pipeline as imb_pipeline\n",
    "\n",
    "# model building\n",
    "from sklearn.pipeline import Pipeline\n",
    "from sklearn.feature_selection import VarianceThreshold\n",
    "from sklearn.linear_model import LogisticRegression\n",
    "from sklearn.tree import DecisionTreeClassifier\n",
    "from sklearn.ensemble import RandomForestClassifier\n",
    "from xgboost import XGBClassifier\n",
    "\n",
    "# accuracy\n",
    "from sklearn.metrics import classification_report, plot_confusion_matrix, roc_auc_score\n",
    "\n",
    "# other\n",
    "import pickle\n",
    "import warnings;warnings.filterwarnings('ignore')"
   ]
  },
  {
   "cell_type": "code",
   "execution_count": 2,
   "metadata": {},
   "outputs": [
    {
     "data": {
      "text/html": [
       "<div>\n",
       "<style scoped>\n",
       "    .dataframe tbody tr th:only-of-type {\n",
       "        vertical-align: middle;\n",
       "    }\n",
       "\n",
       "    .dataframe tbody tr th {\n",
       "        vertical-align: top;\n",
       "    }\n",
       "\n",
       "    .dataframe thead th {\n",
       "        text-align: right;\n",
       "    }\n",
       "</style>\n",
       "<table border=\"1\" class=\"dataframe\">\n",
       "  <thead>\n",
       "    <tr style=\"text-align: right;\">\n",
       "      <th></th>\n",
       "      <th>gender</th>\n",
       "      <th>age</th>\n",
       "      <th>hypertension</th>\n",
       "      <th>heart_disease</th>\n",
       "      <th>ever_married</th>\n",
       "      <th>Residence_type</th>\n",
       "      <th>avg_glucose_level</th>\n",
       "      <th>bmi</th>\n",
       "      <th>stroke</th>\n",
       "      <th>work_type_Govt_job</th>\n",
       "      <th>work_type_Never_worked</th>\n",
       "      <th>work_type_Private</th>\n",
       "      <th>work_type_Self-employed</th>\n",
       "      <th>work_type_children</th>\n",
       "      <th>smoking_status_Unknown</th>\n",
       "      <th>smoking_status_formerly smoked</th>\n",
       "      <th>smoking_status_never smoked</th>\n",
       "      <th>smoking_status_smokes</th>\n",
       "    </tr>\n",
       "  </thead>\n",
       "  <tbody>\n",
       "    <tr>\n",
       "      <th>0</th>\n",
       "      <td>1</td>\n",
       "      <td>80.0</td>\n",
       "      <td>0</td>\n",
       "      <td>1</td>\n",
       "      <td>0</td>\n",
       "      <td>0</td>\n",
       "      <td>4.662684</td>\n",
       "      <td>3.481240</td>\n",
       "      <td>1</td>\n",
       "      <td>0</td>\n",
       "      <td>0</td>\n",
       "      <td>1</td>\n",
       "      <td>0</td>\n",
       "      <td>0</td>\n",
       "      <td>0</td>\n",
       "      <td>0</td>\n",
       "      <td>1</td>\n",
       "      <td>0</td>\n",
       "    </tr>\n",
       "    <tr>\n",
       "      <th>1</th>\n",
       "      <td>1</td>\n",
       "      <td>74.0</td>\n",
       "      <td>1</td>\n",
       "      <td>1</td>\n",
       "      <td>0</td>\n",
       "      <td>0</td>\n",
       "      <td>4.249780</td>\n",
       "      <td>3.310543</td>\n",
       "      <td>1</td>\n",
       "      <td>0</td>\n",
       "      <td>0</td>\n",
       "      <td>1</td>\n",
       "      <td>0</td>\n",
       "      <td>0</td>\n",
       "      <td>0</td>\n",
       "      <td>0</td>\n",
       "      <td>1</td>\n",
       "      <td>0</td>\n",
       "    </tr>\n",
       "    <tr>\n",
       "      <th>2</th>\n",
       "      <td>0</td>\n",
       "      <td>69.0</td>\n",
       "      <td>0</td>\n",
       "      <td>0</td>\n",
       "      <td>0</td>\n",
       "      <td>0</td>\n",
       "      <td>4.547435</td>\n",
       "      <td>3.126761</td>\n",
       "      <td>1</td>\n",
       "      <td>0</td>\n",
       "      <td>0</td>\n",
       "      <td>1</td>\n",
       "      <td>0</td>\n",
       "      <td>0</td>\n",
       "      <td>0</td>\n",
       "      <td>0</td>\n",
       "      <td>1</td>\n",
       "      <td>0</td>\n",
       "    </tr>\n",
       "    <tr>\n",
       "      <th>3</th>\n",
       "      <td>0</td>\n",
       "      <td>59.0</td>\n",
       "      <td>0</td>\n",
       "      <td>0</td>\n",
       "      <td>0</td>\n",
       "      <td>0</td>\n",
       "      <td>4.332705</td>\n",
       "      <td>3.335770</td>\n",
       "      <td>1</td>\n",
       "      <td>0</td>\n",
       "      <td>0</td>\n",
       "      <td>1</td>\n",
       "      <td>0</td>\n",
       "      <td>0</td>\n",
       "      <td>1</td>\n",
       "      <td>0</td>\n",
       "      <td>0</td>\n",
       "      <td>0</td>\n",
       "    </tr>\n",
       "    <tr>\n",
       "      <th>4</th>\n",
       "      <td>0</td>\n",
       "      <td>78.0</td>\n",
       "      <td>0</td>\n",
       "      <td>0</td>\n",
       "      <td>0</td>\n",
       "      <td>0</td>\n",
       "      <td>4.070223</td>\n",
       "      <td>3.186353</td>\n",
       "      <td>1</td>\n",
       "      <td>0</td>\n",
       "      <td>0</td>\n",
       "      <td>1</td>\n",
       "      <td>0</td>\n",
       "      <td>0</td>\n",
       "      <td>1</td>\n",
       "      <td>0</td>\n",
       "      <td>0</td>\n",
       "      <td>0</td>\n",
       "    </tr>\n",
       "  </tbody>\n",
       "</table>\n",
       "</div>"
      ],
      "text/plain": [
       "   gender   age  hypertension  heart_disease  ever_married  Residence_type  \\\n",
       "0       1  80.0             0              1             0               0   \n",
       "1       1  74.0             1              1             0               0   \n",
       "2       0  69.0             0              0             0               0   \n",
       "3       0  59.0             0              0             0               0   \n",
       "4       0  78.0             0              0             0               0   \n",
       "\n",
       "   avg_glucose_level       bmi  stroke  work_type_Govt_job  \\\n",
       "0           4.662684  3.481240       1                   0   \n",
       "1           4.249780  3.310543       1                   0   \n",
       "2           4.547435  3.126761       1                   0   \n",
       "3           4.332705  3.335770       1                   0   \n",
       "4           4.070223  3.186353       1                   0   \n",
       "\n",
       "   work_type_Never_worked  work_type_Private  work_type_Self-employed  \\\n",
       "0                       0                  1                        0   \n",
       "1                       0                  1                        0   \n",
       "2                       0                  1                        0   \n",
       "3                       0                  1                        0   \n",
       "4                       0                  1                        0   \n",
       "\n",
       "   work_type_children  smoking_status_Unknown  smoking_status_formerly smoked  \\\n",
       "0                   0                       0                               0   \n",
       "1                   0                       0                               0   \n",
       "2                   0                       0                               0   \n",
       "3                   0                       1                               0   \n",
       "4                   0                       1                               0   \n",
       "\n",
       "   smoking_status_never smoked  smoking_status_smokes  \n",
       "0                            1                      0  \n",
       "1                            1                      0  \n",
       "2                            1                      0  \n",
       "3                            0                      0  \n",
       "4                            0                      0  "
      ]
     },
     "execution_count": 2,
     "metadata": {},
     "output_type": "execute_result"
    }
   ],
   "source": [
    "df = pd.read_csv('healthcare_preprocessed.csv')\n",
    "df.head()"
   ]
  },
  {
   "cell_type": "markdown",
   "metadata": {},
   "source": [
    "#### Model with all columns"
   ]
  },
  {
   "cell_type": "code",
   "execution_count": 3,
   "metadata": {},
   "outputs": [
    {
     "name": "stdout",
     "output_type": "stream",
     "text": [
      "(4390, 17) (4390,)\n"
     ]
    }
   ],
   "source": [
    "# feature and label\n",
    "features = df.drop('stroke', axis=1)\n",
    "label = df['stroke']\n",
    "print(features.shape, label.shape)"
   ]
  },
  {
   "cell_type": "code",
   "execution_count": 4,
   "metadata": {},
   "outputs": [
    {
     "name": "stdout",
     "output_type": "stream",
     "text": [
      "(3512, 17) (878, 17) (3512,) (878,)\n"
     ]
    }
   ],
   "source": [
    "# train test split\n",
    "x_train, x_test, y_train, y_test = train_test_split(features, label, test_size=0.2, random_state=21)\n",
    "print(x_train.shape, x_test.shape, y_train.shape, y_test.shape)"
   ]
  },
  {
   "cell_type": "code",
   "execution_count": 5,
   "metadata": {},
   "outputs": [],
   "source": [
    "# to balance the target class we will be using smote on training data\n",
    "over = SMOTE(sampling_strategy=0.2, k_neighbors=2)\n",
    "under = RandomUnderSampler(sampling_strategy=0.3)\n",
    "\n",
    "balancer = imb_pipeline([\n",
    "    ('Over', over),\n",
    "    ('Under', under)\n",
    "])"
   ]
  },
  {
   "cell_type": "code",
   "execution_count": 6,
   "metadata": {},
   "outputs": [
    {
     "name": "stdout",
     "output_type": "stream",
     "text": [
      "(2933, 17) (2933,)\n"
     ]
    }
   ],
   "source": [
    "x_train_, y_train_ = balancer.fit_resample(x_train, y_train)\n",
    "print(x_train_.shape, y_train_.shape)"
   ]
  },
  {
   "cell_type": "code",
   "execution_count": 7,
   "metadata": {},
   "outputs": [],
   "source": [
    "# logistic regression pipeline\n",
    "lr_model = Pipeline([\n",
    "    ('Scaler', StandardScaler()),\n",
    "    ('LR_Classifier', LogisticRegression())\n",
    "])\n",
    "\n",
    "# decision tree model pipeline\n",
    "dt_model = Pipeline([\n",
    "    ('Scaler', StandardScaler()),\n",
    "    ('LR_Classifier', DecisionTreeClassifier(random_state=91))\n",
    "])\n",
    "\n",
    "# xgb model pipeline\n",
    "xgb_model = Pipeline([\n",
    "    ('Scaler', StandardScaler()),\n",
    "    ('LR_Classifier', XGBClassifier(random_state=0))\n",
    "])"
   ]
  },
  {
   "cell_type": "markdown",
   "metadata": {},
   "source": [
    "Since we are trying to predict if a person is likely to have stroke or not, it is important for us to not miss the patient who could have this as it would be risker for him. So we will be looking for low false negative in stroke prediction. Also we will be looking for high stroke prediction precision."
   ]
  },
  {
   "cell_type": "code",
   "execution_count": 8,
   "metadata": {},
   "outputs": [
    {
     "name": "stdout",
     "output_type": "stream",
     "text": [
      "Logistic Regression\n",
      "(lr_model) Training set score: 0.8929423798158882\n",
      "(lr_model) Test set score: 0.9043280182232346 \n",
      "\n",
      "              precision    recall  f1-score   support\n",
      "\n",
      "           0       0.96      0.94      0.95       837\n",
      "           1       0.16      0.24      0.19        41\n",
      "\n",
      "    accuracy                           0.90       878\n",
      "   macro avg       0.56      0.59      0.57       878\n",
      "weighted avg       0.92      0.90      0.91       878\n",
      "\n"
     ]
    },
    {
     "data": {
      "text/plain": [
       "<sklearn.metrics._plot.confusion_matrix.ConfusionMatrixDisplay at 0x20167f0d250>"
      ]
     },
     "execution_count": 8,
     "metadata": {},
     "output_type": "execute_result"
    },
    {
     "data": {
      "image/png": "[encoded data removed]",
      "text/plain": [
       "<Figure size 432x288 with 1 Axes>"
      ]
     },
     "metadata": {
      "needs_background": "light"
     },
     "output_type": "display_data"
    }
   ],
   "source": [
    "print(\"Logistic Regression\")\n",
    "\n",
    "lr_model.fit(x_train_, y_train_)\n",
    "print('(lr_model) Training set score: ' + str(lr_model.score(x_train_, y_train_)))\n",
    "print('(lr_model) Test set score: ' + str(lr_model.score(x_test, y_test)), '\\n')\n",
    "\n",
    "print(classification_report(y_test, lr_model.predict(x_test)))\n",
    "plot_confusion_matrix(lr_model, x_test, y_test, colorbar=False, cmap='binary')"
   ]
  },
  {
   "cell_type": "markdown",
   "metadata": {},
   "source": [
    "> * It's test score is impressive and doesn't seems to be overfitted\n",
    "> * but its score isn't that good on predicting stroke class"
   ]
  },
  {
   "cell_type": "code",
   "execution_count": 9,
   "metadata": {},
   "outputs": [
    {
     "name": "stdout",
     "output_type": "stream",
     "text": [
      "Decision Tree\n",
      "(dt_model) Training set score: 1.0\n",
      "(dt_model) Test set score: 0.8815489749430524 \n",
      "\n",
      "              precision    recall  f1-score   support\n",
      "\n",
      "           0       0.96      0.91      0.94       837\n",
      "           1       0.12      0.24      0.16        41\n",
      "\n",
      "    accuracy                           0.88       878\n",
      "   macro avg       0.54      0.58      0.55       878\n",
      "weighted avg       0.92      0.88      0.90       878\n",
      "\n"
     ]
    },
    {
     "data": {
      "text/plain": [
       "<sklearn.metrics._plot.confusion_matrix.ConfusionMatrixDisplay at 0x2015da5aeb0>"
      ]
     },
     "execution_count": 9,
     "metadata": {},
     "output_type": "execute_result"
    },
    {
     "data": {
      "image/png": "[encoded data removed]",
      "text/plain": [
       "<Figure size 432x288 with 1 Axes>"
      ]
     },
     "metadata": {
      "needs_background": "light"
     },
     "output_type": "display_data"
    }
   ],
   "source": [
    "print(\"Decision Tree\")\n",
    "\n",
    "dt_model.fit(x_train_, y_train_)\n",
    "print('(dt_model) Training set score: ' + str(dt_model.score(x_train_, y_train_)))\n",
    "print('(dt_model) Test set score: ' + str(dt_model.score(x_test, y_test)), '\\n')\n",
    "\n",
    "print(classification_report(y_test, dt_model.predict(x_test)))\n",
    "plot_confusion_matrix(dt_model, x_test, y_test, colorbar=False, cmap='binary')"
   ]
  },
  {
   "cell_type": "markdown",
   "metadata": {},
   "source": [
    "> * Model is overfitted\n",
    "> * stroke class precision is very less"
   ]
  },
  {
   "cell_type": "code",
   "execution_count": 10,
   "metadata": {},
   "outputs": [
    {
     "name": "stdout",
     "output_type": "stream",
     "text": [
      "XGBoost\n",
      "[08:58:10] WARNING: C:/Users/Administrator/workspace/xgboost-win64_release_1.5.1/src/learner.cc:1115: Starting in XGBoost 1.3.0, the default evaluation metric used with the objective 'binary:logistic' was changed from 'error' to 'logloss'. Explicitly set eval_metric if you'd like to restore the old behavior.\n",
      "(xgb_model) Training set score: 1.0\n",
      "(xgb_model) Test set score: 0.9305239179954442\n",
      "              precision    recall  f1-score   support\n",
      "\n",
      "           0       0.96      0.97      0.96       837\n",
      "           1       0.19      0.15      0.16        41\n",
      "\n",
      "    accuracy                           0.93       878\n",
      "   macro avg       0.57      0.56      0.56       878\n",
      "weighted avg       0.92      0.93      0.93       878\n",
      "\n"
     ]
    },
    {
     "data": {
      "text/plain": [
       "<sklearn.metrics._plot.confusion_matrix.ConfusionMatrixDisplay at 0x20169c0ac40>"
      ]
     },
     "execution_count": 10,
     "metadata": {},
     "output_type": "execute_result"
    },
    {
     "data": {
      "image/png": "[encoded data removed]",
      "text/plain": [
       "<Figure size 432x288 with 1 Axes>"
      ]
     },
     "metadata": {
      "needs_background": "light"
     },
     "output_type": "display_data"
    }
   ],
   "source": [
    "print(\"XGBoost\")\n",
    "\n",
    "xgb_model.fit(x_train_, y_train_)\n",
    "print('(xgb_model) Training set score: ' + str(xgb_model.score(x_train_, y_train_)))\n",
    "print('(xgb_model) Test set score: ' + str(xgb_model.score(x_test, y_test)))\n",
    "\n",
    "print(classification_report(y_test, xgb_model.predict(x_test)))\n",
    "plot_confusion_matrix(xgb_model, x_test, y_test, colorbar=False, cmap='binary')\n"
   ]
  },
  {
   "cell_type": "markdown",
   "metadata": {},
   "source": [
    "> * It is also overfitted\n",
    "> * not an impressive performance on stroke class"
   ]
  },
  {
   "cell_type": "markdown",
   "metadata": {},
   "source": [
    "#### Model with best column (Information gain)"
   ]
  },
  {
   "cell_type": "code",
   "execution_count": 14,
   "metadata": {},
   "outputs": [
    {
     "name": "stdout",
     "output_type": "stream",
     "text": [
      "(3512, 8) (878, 8) (3512,) (878,)\n"
     ]
    }
   ],
   "source": [
    "# these columns selected from last eda's notebook information gain\n",
    "columns = ['gender', 'heart_disease', 'ever_married', 'Residence_type', 'avg_glucose_level', 'work_type_Govt_job',\n",
    "             'work_type_Private', 'smoking_status_formerly smoked', 'smoking_status_smokes']\n",
    "features_ig = features.drop(columns, axis=1)\n",
    "\n",
    "# train test split\n",
    "x_train_ig, x_test_ig, y_train_ig, y_test_ig = train_test_split(features_ig, label, test_size=0.2, random_state=21)\n",
    "print(x_train_ig.shape, x_test_ig.shape, y_train_ig.shape, y_test_ig.shape)"
   ]
  },
  {
   "cell_type": "code",
   "execution_count": 15,
   "metadata": {},
   "outputs": [
    {
     "name": "stdout",
     "output_type": "stream",
     "text": [
      "(2933, 8) (2933,)\n"
     ]
    }
   ],
   "source": [
    "x_train_ig, y_train_ig = balancer.fit_resample(x_train_ig, y_train_ig)\n",
    "print(x_train_ig.shape, y_train_ig.shape)"
   ]
  },
  {
   "cell_type": "code",
   "execution_count": 16,
   "metadata": {},
   "outputs": [
    {
     "name": "stdout",
     "output_type": "stream",
     "text": [
      "Logistic Regression with Features selection\n",
      "(lr_model) Training set score: 0.8029321513808387\n",
      "(lr_model) Test set score: 0.8804100227790432 \n",
      "\n",
      "              precision    recall  f1-score   support\n",
      "\n",
      "           0       0.97      0.90      0.94       837\n",
      "           1       0.17      0.39      0.23        41\n",
      "\n",
      "    accuracy                           0.88       878\n",
      "   macro avg       0.57      0.65      0.58       878\n",
      "weighted avg       0.93      0.88      0.90       878\n",
      "\n"
     ]
    },
    {
     "data": {
      "text/plain": [
       "<sklearn.metrics._plot.confusion_matrix.ConfusionMatrixDisplay at 0x20169ba1520>"
      ]
     },
     "execution_count": 16,
     "metadata": {},
     "output_type": "execute_result"
    },
    {
     "data": {
      "image/png": "[encoded data removed]",
      "text/plain": [
       "<Figure size 432x288 with 1 Axes>"
      ]
     },
     "metadata": {
      "needs_background": "light"
     },
     "output_type": "display_data"
    }
   ],
   "source": [
    "print(\"Logistic Regression with Features selection\")\n",
    "\n",
    "lr_model.fit(x_train_ig, y_train_ig)\n",
    "print('(lr_model) Training set score: ' + str(lr_model.score(x_train_ig, y_train_ig)))\n",
    "print('(lr_model) Test set score: ' + str(lr_model.score(x_test_ig, y_test_ig)), '\\n')\n",
    "\n",
    "print(classification_report(y_test_ig, lr_model.predict(x_test_ig)))\n",
    "plot_confusion_matrix(lr_model, x_test_ig, y_test_ig, colorbar=False, cmap='binary')"
   ]
  },
  {
   "cell_type": "markdown",
   "metadata": {},
   "source": [
    "> * Feature selection did improved the stroke prediction performance"
   ]
  },
  {
   "cell_type": "code",
   "execution_count": 17,
   "metadata": {},
   "outputs": [
    {
     "name": "stdout",
     "output_type": "stream",
     "text": [
      "Decision Tree with Features selection\n",
      "(dt_model) Training set score: 0.9982952608250938\n",
      "(dt_model) Test set score: 0.8917995444191344 \n",
      "\n",
      "              precision    recall  f1-score   support\n",
      "\n",
      "           0       0.97      0.92      0.94       837\n",
      "           1       0.19      0.39      0.25        41\n",
      "\n",
      "    accuracy                           0.89       878\n",
      "   macro avg       0.58      0.65      0.60       878\n",
      "weighted avg       0.93      0.89      0.91       878\n",
      "\n"
     ]
    },
    {
     "data": {
      "text/plain": [
       "<sklearn.metrics._plot.confusion_matrix.ConfusionMatrixDisplay at 0x20167ee5c70>"
      ]
     },
     "execution_count": 17,
     "metadata": {},
     "output_type": "execute_result"
    },
    {
     "data": {
      "image/png": "[encoded data removed]",
      "text/plain": [
       "<Figure size 432x288 with 1 Axes>"
      ]
     },
     "metadata": {
      "needs_background": "light"
     },
     "output_type": "display_data"
    }
   ],
   "source": [
    "print(\"Decision Tree with Features selection\")\n",
    "\n",
    "dt_model.fit(x_train_ig, y_train_ig)\n",
    "print('(dt_model) Training set score: ' + str(dt_model.score(x_train_ig, y_train_ig)))\n",
    "print('(dt_model) Test set score: ' + str(dt_model.score(x_test_ig, y_test_ig)), '\\n')\n",
    "\n",
    "print(classification_report(y_test_ig, dt_model.predict(x_test_ig)))\n",
    "plot_confusion_matrix(dt_model, x_test_ig, y_test_ig, colorbar=False, cmap='binary')"
   ]
  },
  {
   "cell_type": "markdown",
   "metadata": {},
   "source": [
    "> * There is little improvement in stroke prediction but it is still overfitted"
   ]
  },
  {
   "cell_type": "code",
   "execution_count": 18,
   "metadata": {},
   "outputs": [
    {
     "name": "stdout",
     "output_type": "stream",
     "text": [
      "xgboost with Features selection\n",
      "[09:29:02] WARNING: C:/Users/Administrator/workspace/xgboost-win64_release_1.5.1/src/learner.cc:1115: Starting in XGBoost 1.3.0, the default evaluation metric used with the objective 'binary:logistic' was changed from 'error' to 'logloss'. Explicitly set eval_metric if you'd like to restore the old behavior.\n",
      "(xgb_model) Training set score: 0.9778383907262189\n",
      "(xgb_model) Test set score: 0.908883826879271 \n",
      "\n",
      "              precision    recall  f1-score   support\n",
      "\n",
      "           0       0.97      0.94      0.95       837\n",
      "           1       0.20      0.32      0.25        41\n",
      "\n",
      "    accuracy                           0.91       878\n",
      "   macro avg       0.58      0.63      0.60       878\n",
      "weighted avg       0.93      0.91      0.92       878\n",
      "\n"
     ]
    },
    {
     "data": {
      "text/plain": [
       "<sklearn.metrics._plot.confusion_matrix.ConfusionMatrixDisplay at 0x20167ee5ac0>"
      ]
     },
     "execution_count": 18,
     "metadata": {},
     "output_type": "execute_result"
    },
    {
     "data": {
      "image/png": "[encoded data removed]",
      "text/plain": [
       "<Figure size 432x288 with 1 Axes>"
      ]
     },
     "metadata": {
      "needs_background": "light"
     },
     "output_type": "display_data"
    }
   ],
   "source": [
    "print(\"xgboost with Features selection\")\n",
    "\n",
    "xgb_model.fit(x_train_ig, y_train_ig)\n",
    "print('(xgb_model) Training set score: ' + str(xgb_model.score(x_train_ig, y_train_ig)))\n",
    "print('(xgb_model) Test set score: ' + str(xgb_model.score(x_test_ig, y_test_ig)), '\\n')\n",
    "\n",
    "print(classification_report(y_test_ig, xgb_model.predict(x_test_ig)))\n",
    "plot_confusion_matrix(xgb_model, x_test_ig, y_test_ig, colorbar=False, cmap='binary')"
   ]
  },
  {
   "cell_type": "markdown",
   "metadata": {},
   "source": [
    "> * xgboost is also overfitted"
   ]
  },
  {
   "cell_type": "markdown",
   "metadata": {},
   "source": [
    "#### Model with best column (Variance Threshold)"
   ]
  },
  {
   "cell_type": "code",
   "execution_count": 19,
   "metadata": {},
   "outputs": [
    {
     "name": "stdout",
     "output_type": "stream",
     "text": [
      "(3512, 12) (878, 12) (3512,) (878,)\n"
     ]
    }
   ],
   "source": [
    "# these columns selected from last eda's notebook information gain\n",
    "columns = ['hypertension', 'heart_disease', 'avg_glucose_level', 'bmi', 'work_type_Never_worked']\n",
    "features_vt = features.drop(columns, axis=1)\n",
    "\n",
    "# train test split\n",
    "x_train_vt, x_test_vt, y_train_vt, y_test_vt = train_test_split(features_vt, label, test_size=0.2, random_state=21)\n",
    "print(x_train_vt.shape, x_test_vt.shape, y_train_vt.shape, y_test_vt.shape)"
   ]
  },
  {
   "cell_type": "code",
   "execution_count": 20,
   "metadata": {},
   "outputs": [
    {
     "name": "stdout",
     "output_type": "stream",
     "text": [
      "(2933, 12) (2933,)\n"
     ]
    }
   ],
   "source": [
    "x_train_vt, y_train_vt = balancer.fit_resample(x_train_vt, y_train_vt)\n",
    "print(x_train_vt.shape, y_train_vt.shape)"
   ]
  },
  {
   "cell_type": "code",
   "execution_count": 21,
   "metadata": {},
   "outputs": [
    {
     "name": "stdout",
     "output_type": "stream",
     "text": [
      "Logistic Regression with Features selection\n",
      "(lr_model) Training set score: 0.8810092055915445\n",
      "(lr_model) Test set score: 0.8986332574031891 \n",
      "\n",
      "              precision    recall  f1-score   support\n",
      "\n",
      "           0       0.97      0.93      0.95       837\n",
      "           1       0.18      0.34      0.24        41\n",
      "\n",
      "    accuracy                           0.90       878\n",
      "   macro avg       0.58      0.63      0.59       878\n",
      "weighted avg       0.93      0.90      0.91       878\n",
      "\n"
     ]
    },
    {
     "data": {
      "text/plain": [
       "<sklearn.metrics._plot.confusion_matrix.ConfusionMatrixDisplay at 0x2016b05b940>"
      ]
     },
     "execution_count": 21,
     "metadata": {},
     "output_type": "execute_result"
    },
    {
     "data": {
      "image/png": "[encoded data removed]",
      "text/plain": [
       "<Figure size 432x288 with 1 Axes>"
      ]
     },
     "metadata": {
      "needs_background": "light"
     },
     "output_type": "display_data"
    }
   ],
   "source": [
    "print(\"Logistic Regression with Features selection\")\n",
    "\n",
    "lr_model.fit(x_train_vt, y_train_vt)\n",
    "print('(lr_model) Training set score: ' + str(lr_model.score(x_train_vt, y_train_vt)))\n",
    "print('(lr_model) Test set score: ' + str(lr_model.score(x_test_vt, y_test_vt)), '\\n')\n",
    "\n",
    "print(classification_report(y_test_vt, lr_model.predict(x_test_vt)))\n",
    "plot_confusion_matrix(lr_model, x_test_vt, y_test_vt, colorbar=False, cmap='binary')"
   ]
  },
  {
   "cell_type": "markdown",
   "metadata": {},
   "source": [
    "> * Model has improvement from first model but isn't better than our last model"
   ]
  },
  {
   "cell_type": "code",
   "execution_count": 22,
   "metadata": {},
   "outputs": [
    {
     "name": "stdout",
     "output_type": "stream",
     "text": [
      "Decision Tree with Features selection\n",
      "(dt_model) Training set score: 0.9624957381520627\n",
      "(dt_model) Test set score: 0.9236902050113895 \n",
      "\n",
      "              precision    recall  f1-score   support\n",
      "\n",
      "           0       0.96      0.96      0.96       837\n",
      "           1       0.12      0.10      0.11        41\n",
      "\n",
      "    accuracy                           0.92       878\n",
      "   macro avg       0.54      0.53      0.53       878\n",
      "weighted avg       0.92      0.92      0.92       878\n",
      "\n"
     ]
    },
    {
     "data": {
      "text/plain": [
       "<sklearn.metrics._plot.confusion_matrix.ConfusionMatrixDisplay at 0x2016b0b8d60>"
      ]
     },
     "execution_count": 22,
     "metadata": {},
     "output_type": "execute_result"
    },
    {
     "data": {
      "image/png": "[encoded data removed]",
      "text/plain": [
       "<Figure size 432x288 with 1 Axes>"
      ]
     },
     "metadata": {
      "needs_background": "light"
     },
     "output_type": "display_data"
    }
   ],
   "source": [
    "print(\"Decision Tree with Features selection\")\n",
    "\n",
    "dt_model.fit(x_train_vt, y_train_vt)\n",
    "print('(dt_model) Training set score: ' + str(dt_model.score(x_train_vt, y_train_vt)))\n",
    "print('(dt_model) Test set score: ' + str(dt_model.score(x_test_vt, y_test_vt)), '\\n')\n",
    "\n",
    "print(classification_report(y_test_vt, dt_model.predict(x_test_vt)))\n",
    "plot_confusion_matrix(dt_model, x_test_vt, y_test_vt, colorbar=False, cmap='binary')"
   ]
  },
  {
   "cell_type": "markdown",
   "metadata": {},
   "source": [
    "> * these new features doesn't helped decision tree in better stroke predicition"
   ]
  },
  {
   "cell_type": "code",
   "execution_count": 23,
   "metadata": {},
   "outputs": [
    {
     "name": "stdout",
     "output_type": "stream",
     "text": [
      "xgboost with Features selection\n",
      "[09:32:37] WARNING: C:/Users/Administrator/workspace/xgboost-win64_release_1.5.1/src/learner.cc:1115: Starting in XGBoost 1.3.0, the default evaluation metric used with the objective 'binary:logistic' was changed from 'error' to 'logloss'. Explicitly set eval_metric if you'd like to restore the old behavior.\n",
      "(xgb_model) Training set score: 0.958745311967269\n",
      "(xgb_model) Test set score: 0.929384965831435 \n",
      "\n",
      "              precision    recall  f1-score   support\n",
      "\n",
      "           0       0.96      0.97      0.96       837\n",
      "           1       0.16      0.12      0.14        41\n",
      "\n",
      "    accuracy                           0.93       878\n",
      "   macro avg       0.56      0.55      0.55       878\n",
      "weighted avg       0.92      0.93      0.92       878\n",
      "\n"
     ]
    },
    {
     "data": {
      "text/plain": [
       "<sklearn.metrics._plot.confusion_matrix.ConfusionMatrixDisplay at 0x2016b06c430>"
      ]
     },
     "execution_count": 23,
     "metadata": {},
     "output_type": "execute_result"
    },
    {
     "data": {
      "image/png": "[encoded data removed]",
      "text/plain": [
       "<Figure size 432x288 with 1 Axes>"
      ]
     },
     "metadata": {
      "needs_background": "light"
     },
     "output_type": "display_data"
    }
   ],
   "source": [
    "print(\"xgboost with Features selection\")\n",
    "\n",
    "xgb_model.fit(x_train_vt, y_train_vt)\n",
    "print('(xgb_model) Training set score: ' + str(xgb_model.score(x_train_vt, y_train_vt)))\n",
    "print('(xgb_model) Test set score: ' + str(xgb_model.score(x_test_vt, y_test_vt)), '\\n')\n",
    "\n",
    "print(classification_report(y_test_vt, xgb_model.predict(x_test_vt)))\n",
    "plot_confusion_matrix(xgb_model, x_test_vt, y_test_vt, colorbar=False, cmap='binary')"
   ]
  },
  {
   "cell_type": "markdown",
   "metadata": {},
   "source": [
    "#### Saving model"
   ]
  },
  {
   "cell_type": "markdown",
   "metadata": {},
   "source": [
    "> * It is also not improved from new selected features"
   ]
  },
  {
   "cell_type": "code",
   "execution_count": 25,
   "metadata": {},
   "outputs": [],
   "source": [
    "lr_model.fit(x_train_ig, y_train_ig)\n",
    "\n",
    "# dumping our model \n",
    "import pickle\n",
    "with open('model.pik', 'wb') as files:\n",
    "    pickle.dump(lr_model, files)"
   ]
  },
  {
   "cell_type": "code",
   "execution_count": null,
   "metadata": {},
   "outputs": [],
   "source": []
  }
 ],
 "metadata": {
  "interpreter": {
   "hash": "591d334517c5d70a2bae2c9c28377b8500948e485d060e75b3e79d2166d8783a"
  },
  "kernelspec": {
   "display_name": "Python 3.9.7 ('base')",
   "language": "python",
   "name": "python3"
  },
  "language_info": {
   "codemirror_mode": {
    "name": "ipython",
    "version": 3
   },
   "file_extension": ".py",
   "mimetype": "text/x-python",
   "name": "python",
   "nbconvert_exporter": "python",
   "pygments_lexer": "ipython3",
   "version": "3.9.7"
  },
  "orig_nbformat": 4
 },
 "nbformat": 4,
 "nbformat_minor": 2
}
